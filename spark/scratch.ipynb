{
 "cells": [
  {
   "cell_type": "code",
   "execution_count": 2,
   "metadata": {},
   "outputs": [],
   "source": [
    "import dask.dataframe as dd\n",
    "\n",
    "import boto3\n",
    "from os import path, makedirs, remove\n",
    "from datetime import datetime\n",
    "import logging\n",
    "from logging import Logger\n",
    "import pandas as pd"
   ]
  },
  {
   "cell_type": "code",
   "execution_count": 23,
   "metadata": {},
   "outputs": [],
   "source": [
    "# S3 bucket and paths\n",
    "BUCKET_NAME = \"oedi-data-lake\"\n",
    "\n",
    "PARENT_PREFIX = \"pvdaq/parquet/\"\n",
    "SITE_PREFIX = PARENT_PREFIX + \"site/\"\n",
    "MOUNT_PREFIX =  PARENT_PREFIX + \"mount/\"\n",
    "\n",
    "METRICS_PREFIX = PARENT_PREFIX + \"metrics/metrics__system_{ss_id}\"\n",
    "PV_PREFIX = PARENT_PREFIX + \"pvdata/system_id={ss_id}/year={year}/month={month}/day={day}/\""
   ]
  },
  {
   "cell_type": "code",
   "execution_count": 2,
   "metadata": {},
   "outputs": [],
   "source": [
    "class PVTransform:\n",
    "    def __init__(self, staging_area: str):\n",
    "        self.staging_area = staging_area\n",
    "\n",
    "\n",
    "    def join_metadata(self):\n",
    "        metadata_cols = [\"system_id\", \"latitude\", \"longitude\", \"elevation\", \"av_pressure\", \"av_temp\", \"climate_type\"]\n",
    "        metadata = pd.read_parquet(path.join(self.staging_area, \"site.parquet\"), columns=metadata_cols)\n",
    "\n",
    "        mount_cols = [\"system_id\", \"azimuth\", \"tilt\"]\n",
    "        mount_data = pd.read_parquet(path.join(self.staging_area, \"mount.parquet\"), columns=mount_cols)\n",
    "\n",
    "        merged = pd.merge(metadata, mount_data, \"inner\", \"system_id\").rename({\"system_id\":\"ss_id\", \"azimuth\":\"mount_azimuth\", \"tilt\":\"mount_tilt\"}, axis=1)\n",
    "        merged.to_parquet(path.join(self.staging_area, \"metadata.parquet\"))\n",
    "        \n",
    "        remove(path.join(self.staging_area, \"site.parquet\"))\n",
    "        remove(path.join(self.staging_area, \"mount.parquet\"))\n",
    "    \n",
    "    "
   ]
  },
  {
   "cell_type": "code",
   "execution_count": 69,
   "metadata": {},
   "outputs": [],
   "source": [
    "transformer = PVTransform(staging_area=\"./data/\")"
   ]
  },
  {
   "cell_type": "code",
   "execution_count": 72,
   "metadata": {},
   "outputs": [],
   "source": [
    "transformer.join_metadata()"
   ]
  },
  {
   "cell_type": "code",
   "execution_count": 3,
   "metadata": {},
   "outputs": [],
   "source": [
    "pv_cols = [\"measured_on\", \"metric_id\", \"value\"]\n",
    "pv_data = dd.read_parquet(path='data/system_1349/pv_data/*.parquet', columns=pv_cols)"
   ]
  },
  {
   "cell_type": "code",
   "execution_count": 6,
   "metadata": {},
   "outputs": [],
   "source": [
    "pv_data[\"ss_id\"] = 1349"
   ]
  },
  {
   "cell_type": "code",
   "execution_count": null,
   "metadata": {},
   "outputs": [],
   "source": []
  }
 ],
 "metadata": {
  "kernelspec": {
   "display_name": "pv-etl",
   "language": "python",
   "name": "python3"
  },
  "language_info": {
   "codemirror_mode": {
    "name": "ipython",
    "version": 3
   },
   "file_extension": ".py",
   "mimetype": "text/x-python",
   "name": "python",
   "nbconvert_exporter": "python",
   "pygments_lexer": "ipython3",
   "version": "3.12.1"
  }
 },
 "nbformat": 4,
 "nbformat_minor": 2
}
